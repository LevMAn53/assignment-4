{
 "cells": [
  {
   "cell_type": "code",
   "execution_count": 36,
   "id": "0b826317-f64f-4629-bedc-a1530981d80a",
   "metadata": {},
   "outputs": [
    {
     "name": "stdout",
     "output_type": "stream",
     "text": [
      "Requirement already satisfied: pandas in /opt/anaconda3/lib/python3.12/site-packages (2.2.2)\n",
      "Requirement already satisfied: numpy>=1.26.0 in /opt/anaconda3/lib/python3.12/site-packages (from pandas) (1.26.4)\n",
      "Requirement already satisfied: python-dateutil>=2.8.2 in /opt/anaconda3/lib/python3.12/site-packages (from pandas) (2.9.0.post0)\n",
      "Requirement already satisfied: pytz>=2020.1 in /opt/anaconda3/lib/python3.12/site-packages (from pandas) (2024.1)\n",
      "Requirement already satisfied: tzdata>=2022.7 in /opt/anaconda3/lib/python3.12/site-packages (from pandas) (2023.3)\n",
      "Requirement already satisfied: six>=1.5 in /opt/anaconda3/lib/python3.12/site-packages (from python-dateutil>=2.8.2->pandas) (1.16.0)\n",
      "Requirement already satisfied: numpy in /opt/anaconda3/lib/python3.12/site-packages (1.26.4)\n",
      "Pandas version: 2.2.2\n",
      "NumPy version: 1.26.4\n",
      "Math has no version\n"
     ]
    }
   ],
   "source": [
    "!pip install pandas\n",
    "!pip install numpy\n",
    "\n",
    "import pandas as pd\n",
    "import numpy as np\n",
    "import math \n",
    "print(\"Pandas version:\", pd.__version__)\n",
    "print(\"NumPy version:\", np.__version__)\n",
    "print(\"Math has no version\")"
   ]
  },
  {
   "cell_type": "code",
   "execution_count": null,
   "id": "d9315edc-ae09-44e3-b77d-727f719aa876",
   "metadata": {},
   "outputs": [],
   "source": []
  },
  {
   "cell_type": "code",
   "execution_count": 110,
   "id": "dd9b4657-0a26-40f9-b2be-8ecae0432443",
   "metadata": {},
   "outputs": [
    {
     "name": "stdout",
     "output_type": "stream",
     "text": [
      "[[94], [87], [19], [47], [58], [97], [8], [96], [8], [25], [15], [3], [57], [21], [67], [1], [15], [31], [62], [48], [40], [29], [49], [42], [67], [21], [65], [9], [67], [30], [37], [100], [88], [83], [82], [57], [51], [49], [73], [100], [29], [23], [92], [50], [84], [40], [23], [92], [28], [58], [21], [41], [77], [7], [93], [79], [42], [37], [14], [6], [16], [77], [3], [15], [40], [8], [17], [72], [82], [94], [77], [36], [8], [10], [95], [91], [74], [6], [45], [85], [59], [10], [41], [13], [10], [39], [64], [42], [74], [14], [65], [56], [24], [38], [85], [50], [50], [26], [28], [91]]\n",
      "Sums: [91]\n",
      "Means: [91.0]\n"
     ]
    }
   ],
   "source": [
    "import random\n",
    "\n",
    "means = []\n",
    "sums = []\n",
    "random_lists = []\n",
    "\n",
    "\n",
    "for i in range(100):\n",
    "    random_list = [random.randint(1, 100)for _ in range(100)]\n",
    "    random_lists.append(random_list)\n",
    "\n",
    "list_sum = sum(random_list)\n",
    "list_mean = list_sum / len(random_list)\n",
    "\n",
    "sums.append(list_sum)\n",
    "means.append(list_mean)\n",
    "\n",
    "print(random_lists)\n",
    "print(\"Sums:\", sums)\n",
    "print(\"Means:\", means)"
   ]
  }
 ],
 "metadata": {
  "kernelspec": {
   "display_name": "Python 3 (ipykernel)",
   "language": "python",
   "name": "python3"
  },
  "language_info": {
   "codemirror_mode": {
    "name": "ipython",
    "version": 3
   },
   "file_extension": ".py",
   "mimetype": "text/x-python",
   "name": "python",
   "nbconvert_exporter": "python",
   "pygments_lexer": "ipython3",
   "version": "3.12.4"
  }
 },
 "nbformat": 4,
 "nbformat_minor": 5
}
